{
 "cells": [
  {
   "attachments": {},
   "cell_type": "markdown",
   "id": "f0f7929e-a8b0-4e29-b47e-bc3de3042e5a",
   "metadata": {},
   "source": [
    "# GPU Testing command\n",
    "\n",
    "The command `!nvidia-smi` will report information on the GPU(s) your notebook can use. "
   ]
  },
  {
   "cell_type": "code",
   "execution_count": null,
   "id": "2e6c4768-10cd-4918-bda8-45ab6c605908",
   "metadata": {},
   "outputs": [],
   "source": [
    "!nvidia-smi"
   ]
  }
 ],
 "metadata": {
  "kernelspec": {
   "display_name": "Python 3 (ipykernel)",
   "language": "python",
   "name": "python3"
  },
  "language_info": {
   "codemirror_mode": {
    "name": "ipython",
    "version": 3
   },
   "file_extension": ".py",
   "mimetype": "text/x-python",
   "name": "python",
   "nbconvert_exporter": "python",
   "pygments_lexer": "ipython3",
   "version": "3.8.6"
  }
 },
 "nbformat": 4,
 "nbformat_minor": 5
}
